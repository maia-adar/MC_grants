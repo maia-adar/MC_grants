{
 "cells": [
  {
   "cell_type": "code",
   "execution_count": 1,
   "id": "fb4aa2bf",
   "metadata": {},
   "outputs": [],
   "source": [
    "import pandas as pd\n",
    "import numpy as np\n",
    "import matplotlib.pyplot as plt\n",
    "import seaborn as sns\n",
    "from bs4 import BeautifulSoup\n",
    "from sklearn.model_selection import train_test_split\n",
    "from sklearn.feature_extraction.text import TfidfVectorizer\n",
    "from sklearn.naive_bayes import GaussianNB, BernoulliNB\n"
   ]
  },
  {
   "cell_type": "markdown",
   "id": "c79d2025",
   "metadata": {},
   "source": [
    "The forum data was scraped from https://forum.metacartel.org/ using the Scrape_MC_forum.py script.\n",
    "The funded projects list is from https://airtable.com/appWsfebn79bII12n/tblA2NXylnlVE9eIW/viw5H4Aaxv3XsyI0e?blocks=hide in the tab called \"MC Grants Proposal Portfolio\". "
   ]
  },
  {
   "cell_type": "code",
   "execution_count": 2,
   "id": "7e6e0a30",
   "metadata": {},
   "outputs": [],
   "source": [
    "forum_data = pd.read_csv('scraped_forum_data.csv')\n",
    "mc_funded_data = pd.read_csv('mc_funded_projects.csv')[0:19]"
   ]
  },
  {
   "cell_type": "markdown",
   "id": "65284096",
   "metadata": {},
   "source": [
    "In order to merge these datasets, I tried to match the names of the projects to titles of forum posts. Four projects had no matching forum post:"
   ]
  },
  {
   "cell_type": "code",
   "execution_count": 3,
   "id": "2520f55a",
   "metadata": {},
   "outputs": [
    {
     "name": "stdout",
     "output_type": "stream",
     "text": [
      "No matching forum post:\n",
      "['Overlay', 'MyMeta', 'A proposal for 5000 DAI to sponsor the NFT hackathon', 'Fork The World']\n"
     ]
    }
   ],
   "source": [
    "matching_names = []\n",
    "projects_with_no_match_in_forum = []\n",
    "\n",
    "for i, project in mc_funded_data.iterrows():\n",
    "    \n",
    "    if pd.isna(project['Project Name']):\n",
    "        matching_names.append(np.nan)\n",
    "        continue\n",
    "        \n",
    "    matching_titles = [title for title in forum_data['title'] if project['Project Name'] in title]\n",
    "    \n",
    "    if len(matching_titles) > 0:\n",
    "        matching_names.append(matching_titles[0])\n",
    "    else:\n",
    "        matching_names.append(np.nan)\n",
    "        projects_with_no_match_in_forum.append(project['Project Name'])\n",
    "\n",
    "print('No matching forum post:')\n",
    "print(projects_with_no_match_in_forum)\n"
   ]
  },
  {
   "cell_type": "markdown",
   "id": "8836e1e6",
   "metadata": {},
   "source": [
    "Merging the datasets and cleaning them up:"
   ]
  },
  {
   "cell_type": "code",
   "execution_count": 4,
   "id": "af2bd2db",
   "metadata": {},
   "outputs": [],
   "source": [
    "mc_funded_data['Matching Title'] = matching_names\n",
    "\n",
    "forum_data = forum_data.merge(mc_funded_data, how='left', left_on='title', right_on='Matching Title')\n",
    "forum_data = forum_data.drop_duplicates(subset=['description'])\n",
    "\n",
    "forum_data['was_funded'] = np.where(pd.isnull(forum_data['$ Amount']), 0, 1)\n",
    "\n",
    "forum_data['Date'] = pd.to_datetime(forum_data['time_posted'])\n",
    "forum_data['Date'] = forum_data['Date'].apply(lambda x: x.date())\n",
    "\n",
    "forum_data['description'] = forum_data['description'].apply(lambda x: str(x).lower())\n",
    "\n",
    "forum_data = forum_data[['title', 'author', 'description', 'comments', 'Person Contact', \n",
    "                        'Description', '$ Amount', 'Date', 'was_funded']]"
   ]
  },
  {
   "cell_type": "code",
   "execution_count": 6,
   "id": "82d9c914",
   "metadata": {},
   "outputs": [
    {
     "data": {
      "image/png": "[encoded data removed]",
      "text/plain": [
       "<Figure size 360x360 with 1 Axes>"
      ]
     },
     "metadata": {
      "needs_background": "light"
     },
     "output_type": "display_data"
    },
    {
     "data": {
      "image/png": "[encoded data removed]",
      "text/plain": [
       "<Figure size 360x360 with 1 Axes>"
      ]
     },
     "metadata": {
      "needs_background": "light"
     },
     "output_type": "display_data"
    }
   ],
   "source": [
    "forum_data['Num comments'] = forum_data['comments'].apply(lambda x: len(x))\n",
    "forum_data['Len description'] = forum_data['description'].apply(lambda x: len(str(x)))\n",
    "\n",
    "sns.lmplot(x='Len description', y='was_funded', data=forum_data)\n",
    "plt.show()\n",
    "\n",
    "sns.lmplot(x='Num comments', y='was_funded', data=forum_data)\n",
    "plt.show()\n"
   ]
  },
  {
   "cell_type": "code",
   "execution_count": 8,
   "id": "03402257",
   "metadata": {},
   "outputs": [],
   "source": [
    "def remove_punctuation(text):\n",
    "    punctuationfree=\"\".join([i for i in text if i not in '!\"#$&\\'()*+,-./:;<=>?@[\\\\]^_`{|}~'])\n",
    "    return punctuationfree\n",
    "\n",
    "def remove_html_tags(raw_html):\n",
    "    cleantext = re.sub(re.compile('<.*?>'), '', raw_html)\n",
    "    return cleantext\n",
    "\n",
    "def clean_html(text):\n",
    "    soup = BeautifulSoup(text, 'html.parser')\n",
    "    return soup.get_text()"
   ]
  },
  {
   "cell_type": "code",
   "execution_count": 9,
   "id": "50cb4aa3",
   "metadata": {},
   "outputs": [],
   "source": [
    "forum_data['Description_cleaned'] = forum_data['description'].apply(lambda x:clean_html(x))  \n",
    "forum_data['Description_cleaned'] = forum_data['Description_cleaned'].apply(lambda x:remove_punctuation(x))  "
   ]
  },
  {
   "cell_type": "code",
   "execution_count": 10,
   "id": "03eaa1b7",
   "metadata": {},
   "outputs": [
    {
     "data": {
      "text/html": [
       "<div>\n",
       "<style scoped>\n",
       "    .dataframe tbody tr th:only-of-type {\n",
       "        vertical-align: middle;\n",
       "    }\n",
       "\n",
       "    .dataframe tbody tr th {\n",
       "        vertical-align: top;\n",
       "    }\n",
       "\n",
       "    .dataframe thead th {\n",
       "        text-align: right;\n",
       "    }\n",
       "</style>\n",
       "<table border=\"1\" class=\"dataframe\">\n",
       "  <thead>\n",
       "    <tr style=\"text-align: right;\">\n",
       "      <th></th>\n",
       "      <th>title</th>\n",
       "      <th>author</th>\n",
       "      <th>Description_cleaned</th>\n",
       "      <th>comments</th>\n",
       "      <th>was_funded</th>\n",
       "      <th>$ Amount</th>\n",
       "    </tr>\n",
       "  </thead>\n",
       "  <tbody>\n",
       "    <tr>\n",
       "      <th>0</th>\n",
       "      <td>Proposal: Saints and Sinners - 🔥 DAO Proposals...</td>\n",
       "      <td>rg203</td>\n",
       "      <td>title saints and sinners description we are a...</td>\n",
       "      <td>[(&lt;p&gt;Super cool! kinda feels like Wargames, bu...</td>\n",
       "      <td>0</td>\n",
       "      <td>NaN</td>\n",
       "    </tr>\n",
       "    <tr>\n",
       "      <th>1</th>\n",
       "      <td>Yapeswap DAO: ERC-1155/ERC-20 Compatible AMM p...</td>\n",
       "      <td>Torg</td>\n",
       "      <td>description\\nwe are building liquidity pools ...</td>\n",
       "      <td>[]</td>\n",
       "      <td>0</td>\n",
       "      <td>NaN</td>\n",
       "    </tr>\n",
       "    <tr>\n",
       "      <th>2</th>\n",
       "      <td>Gig Protocol Grant Proposal - 🔥 DAO Proposals ...</td>\n",
       "      <td>jacobean</td>\n",
       "      <td>hi everyone thank you for the opportunity to ...</td>\n",
       "      <td>[(&lt;p&gt;Hey &lt;a class=\"mention\" href=\"/u/jacobean\"...</td>\n",
       "      <td>0</td>\n",
       "      <td>NaN</td>\n",
       "    </tr>\n",
       "    <tr>\n",
       "      <th>3</th>\n",
       "      <td>Truckin' Coins Proposal - 🔥 DAO Proposals - 🤩 ...</td>\n",
       "      <td>TruckinCoins</td>\n",
       "      <td>truckin’ coins problem\\nas you can currently ...</td>\n",
       "      <td>[]</td>\n",
       "      <td>0</td>\n",
       "      <td>NaN</td>\n",
       "    </tr>\n",
       "    <tr>\n",
       "      <th>4</th>\n",
       "      <td>Tokenize Community Engagement - 🔥 DAO Proposal...</td>\n",
       "      <td>Autocrat</td>\n",
       "      <td>\\npath to oblivion1638×2048 355 kb\\n     proo...</td>\n",
       "      <td>[(&lt;p&gt;Had a good chat with &lt;a class=\"mention\" h...</td>\n",
       "      <td>0</td>\n",
       "      <td>NaN</td>\n",
       "    </tr>\n",
       "  </tbody>\n",
       "</table>\n",
       "</div>"
      ],
      "text/plain": [
       "                                               title        author  \\\n",
       "0  Proposal: Saints and Sinners - 🔥 DAO Proposals...         rg203   \n",
       "1  Yapeswap DAO: ERC-1155/ERC-20 Compatible AMM p...          Torg   \n",
       "2  Gig Protocol Grant Proposal - 🔥 DAO Proposals ...      jacobean   \n",
       "3  Truckin' Coins Proposal - 🔥 DAO Proposals - 🤩 ...  TruckinCoins   \n",
       "4  Tokenize Community Engagement - 🔥 DAO Proposal...      Autocrat   \n",
       "\n",
       "                                 Description_cleaned  \\\n",
       "0   title saints and sinners description we are a...   \n",
       "1   description\\nwe are building liquidity pools ...   \n",
       "2   hi everyone thank you for the opportunity to ...   \n",
       "3   truckin’ coins problem\\nas you can currently ...   \n",
       "4   \\npath to oblivion1638×2048 355 kb\\n     proo...   \n",
       "\n",
       "                                            comments  was_funded $ Amount  \n",
       "0  [(<p>Super cool! kinda feels like Wargames, bu...           0      NaN  \n",
       "1                                                 []           0      NaN  \n",
       "2  [(<p>Hey <a class=\"mention\" href=\"/u/jacobean\"...           0      NaN  \n",
       "3                                                 []           0      NaN  \n",
       "4  [(<p>Had a good chat with <a class=\"mention\" h...           0      NaN  "
      ]
     },
     "execution_count": 10,
     "metadata": {},
     "output_type": "execute_result"
    }
   ],
   "source": [
    "forum_data[['title', 'author', 'Description_cleaned', 'comments', 'was_funded', '$ Amount']].head()"
   ]
  },
  {
   "cell_type": "code",
   "execution_count": 19,
   "id": "919efe95",
   "metadata": {},
   "outputs": [
    {
     "name": "stderr",
     "output_type": "stream",
     "text": [
      "/var/folders/jx/j1wbyrrx4nj_lt0t2zcqk6pr0000gn/T/ipykernel_41635/3436783801.py:21: PerformanceWarning: DataFrame is highly fragmented.  This is usually the result of calling `frame.insert` many times, which has poor performance.  Consider joining all columns at once using pd.concat(axis=1) instead.  To get a de-fragmented frame, use `newframe = frame.copy()`\n",
      "  copy_forum_data[word] = copy_forum_data['Description_cleaned'].apply(lambda x: ' '+word+' ' in str(x))\n"
     ]
    }
   ],
   "source": [
    "#Xtrain, Xtest, ytrain, ytest = train_test_split(forum_data[['Description_cleaned']], forum_data['was_funded'])\n",
    "\n",
    "tfv = TfidfVectorizer(stop_words = 'english')\n",
    "\n",
    "tfv.fit(forum_data['Description_cleaned'])\n",
    "X_tfv =  tfv.transform(forum_data['Description_cleaned']) \n",
    "\n",
    "clf = BernoulliNB()\n",
    "clf.fit(X_tfv.toarray(), forum_data['was_funded'])\n",
    "\n",
    "neg_class_prob = clf.feature_log_prob_[0, :]\n",
    "pos_class_prob = clf.feature_log_prob_[1, :]\n",
    "\n",
    "zipped = list(zip(tfv.get_feature_names_out(), pos_class_prob - neg_class_prob))\n",
    "zipped = sorted(zipped, key=lambda t: t[1], reverse=False)\n",
    "\n",
    "copy_forum_data = forum_data.copy()\n",
    "\n",
    "common_words = []\n",
    "for word, score in zipped:\n",
    "    copy_forum_data[word] = copy_forum_data['Description_cleaned'].apply(lambda x: ' '+word+' ' in str(x))\n",
    "    if copy_forum_data[word].sum() > 5:\n",
    "        common_words.append((word,score))\n",
    "\n"
   ]
  },
  {
   "cell_type": "code",
   "execution_count": 100,
   "id": "8820978f",
   "metadata": {},
   "outputs": [
    {
     "name": "stdout",
     "output_type": "stream",
     "text": [
      "think\n",
      "resources\n",
      "idea\n",
      "decentralized\n",
      "small\n",
      "end\n",
      "fees\n",
      "live\n",
      "receive\n",
      "validation\n",
      "platforms\n",
      "add\n",
      "model\n",
      "description\n",
      "price\n",
      "total\n",
      "following\n",
      "potential\n",
      "revenue\n",
      "technology\n",
      "using\n",
      "wallet\n",
      "week\n",
      "years\n",
      "business\n",
      "contract\n",
      "digital\n",
      "does\n",
      "existing\n",
      "experience\n",
      "liquidity\n",
      "months\n",
      "want\n",
      "active\n",
      "data\n",
      "develop\n",
      "differentiation\n",
      "future\n",
      "providing\n",
      "vision\n",
      "marketing\n",
      "paid\n",
      "make\n",
      "art\n",
      "bring\n",
      "companies\n",
      "run\n",
      "smart\n",
      "ux\n",
      "need\n",
      "problem\n",
      "20\n",
      "adoption\n",
      "cover\n",
      "going\n",
      "industry\n",
      "manifestovision\n",
      "models\n",
      "ready\n",
      "solution\n",
      "eth\n",
      "web3\n",
      "applications\n",
      "deployed\n",
      "grants\n",
      "helping\n",
      "integrating\n",
      "let\n",
      "main\n",
      "media\n",
      "necessary\n",
      "really\n",
      "similar\n",
      "various\n",
      "like\n",
      "market\n",
      "money\n",
      "developing\n",
      "explore\n",
      "marketplace\n",
      "membership\n",
      "online\n",
      "party\n",
      "protocols\n",
      "research\n",
      "seeking\n",
      "specific\n",
      "step\n",
      "telegram\n",
      "understand\n",
      "work\n",
      "start\n",
      "current\n",
      "open\n",
      "ago\n",
      "audience\n",
      "background\n",
      "base\n",
      "big\n",
      "block\n",
      "buying\n",
      "check\n",
      "details\n",
      "developed\n",
      "engagement\n",
      "experiences\n",
      "fee\n",
      "founders\n",
      "general\n",
      "great\n",
      "includes\n",
      "initiative\n",
      "integration\n",
      "interesting\n",
      "making\n",
      "minting\n",
      "professional\n",
      "read\n",
      "received\n",
      "recently\n",
      "rewards\n",
      "selling\n",
      "sense\n",
      "service\n",
      "services\n",
      "short\n",
      "social\n",
      "stream\n",
      "teams\n",
      "today\n",
      "world\n",
      "just\n",
      "new\n",
      "developers\n",
      "pool\n",
      "people\n",
      "based\n",
      "platform\n",
      "artists\n",
      "cases\n",
      "change\n",
      "cool\n",
      "days\n",
      "denver\n",
      "difficult\n",
      "entire\n",
      "google\n",
      "governed\n",
      "handle\n",
      "improve\n",
      "knowledge\n",
      "layer\n",
      "lower\n",
      "mint\n",
      "native\n",
      "offer\n",
      "participation\n",
      "plus\n",
      "pools\n",
      "simply\n",
      "stake\n",
      "useful\n",
      "allows\n",
      "dapp\n",
      "user\n",
      "event\n",
      "information\n",
      "love\n",
      "allow\n",
      "tokens\n",
      "voting\n",
      "experiment\n",
      "focus\n",
      "forward\n",
      "member\n",
      "reach\n",
      "design\n",
      "possible\n",
      "request\n",
      "token\n",
      "support\n",
      "2000\n",
      "2019\n",
      "accessible\n",
      "accounts\n",
      "adding\n",
      "apply\n",
      "buy\n",
      "care\n",
      "case\n",
      "chain\n",
      "collaborate\n",
      "deploy\n",
      "eventually\n",
      "expand\n",
      "generate\n",
      "groups\n",
      "hard\n",
      "hold\n"
     ]
    }
   ],
   "source": [
    "top_words = sorted(common_words, key=lambda t: t[1], reverse=False)\n",
    "for word, score in top_words[1:200]:\n",
    "    print(word)"
   ]
  },
  {
   "cell_type": "code",
   "execution_count": 66,
   "id": "7390adb1",
   "metadata": {},
   "outputs": [],
   "source": [
    "def plot_word(forum_data, word):\n",
    "    \n",
    "    copy_forum_data = forum_data.copy()\n",
    "    \n",
    "    copy_forum_data[word] = copy_forum_data['Description_cleaned'].apply(lambda x: ' '+word+' ' in str(x))\n",
    "        \n",
    "    print(f'Number of forum posts with keyword \\'{word}\\':', copy_forum_data[word].sum())\n",
    "    sns.barplot(x=word, y='was_funded', data=copy_forum_data, errwidth=0.5)\n",
    "    plt.ylabel('Was funded')\n",
    "    plt.show()\n"
   ]
  },
  {
   "cell_type": "code",
   "execution_count": 67,
   "id": "a55e5669",
   "metadata": {},
   "outputs": [
    {
     "name": "stdout",
     "output_type": "stream",
     "text": [
      "Number of forum posts with keyword 'creation': 7\n"
     ]
    },
    {
     "data": {
      "image/png": "[encoded data removed]",
      "text/plain": [
       "<Figure size 432x288 with 1 Axes>"
      ]
     },
     "metadata": {
      "needs_background": "light"
     },
     "output_type": "display_data"
    },
    {
     "name": "stdout",
     "output_type": "stream",
     "text": [
      "Number of forum posts with keyword 'transactions': 7\n"
     ]
    },
    {
     "data": {
      "image/png": "[encoded data removed]",
      "text/plain": [
       "<Figure size 432x288 with 1 Axes>"
      ]
     },
     "metadata": {
      "needs_background": "light"
     },
     "output_type": "display_data"
    },
    {
     "name": "stdout",
     "output_type": "stream",
     "text": [
      "Number of forum posts with keyword '5k': 8\n"
     ]
    },
    {
     "data": {
      "image/png": "[encoded data removed]",
      "text/plain": [
       "<Figure size 432x288 with 1 Axes>"
      ]
     },
     "metadata": {
      "needs_background": "light"
     },
     "output_type": "display_data"
    },
    {
     "name": "stdout",
     "output_type": "stream",
     "text": [
      "Number of forum posts with keyword 'got': 8\n"
     ]
    },
    {
     "data": {
      "image/png": "[encoded data removed]",
      "text/plain": [
       "<Figure size 432x288 with 1 Axes>"
      ]
     },
     "metadata": {
      "needs_background": "light"
     },
     "output_type": "display_data"
    },
    {
     "name": "stdout",
     "output_type": "stream",
     "text": [
      "Number of forum posts with keyword 'deployment': 10\n"
     ]
    },
    {
     "data": {
      "image/png": "[encoded data removed]",
      "text/plain": [
       "<Figure size 432x288 with 1 Axes>"
      ]
     },
     "metadata": {
      "needs_background": "light"
     },
     "output_type": "display_data"
    },
    {
     "name": "stdout",
     "output_type": "stream",
     "text": [
      "Number of forum posts with keyword 'cartel': 6\n"
     ]
    },
    {
     "data": {
      "image/png": "[encoded data removed]",
      "text/plain": [
       "<Figure size 432x288 with 1 Axes>"
      ]
     },
     "metadata": {
      "needs_background": "light"
     },
     "output_type": "display_data"
    },
    {
     "name": "stdout",
     "output_type": "stream",
     "text": [
      "Number of forum posts with keyword 'considering': 6\n"
     ]
    },
    {
     "data": {
      "image/png": "[encoded data removed]",
      "text/plain": [
       "<Figure size 432x288 with 1 Axes>"
      ]
     },
     "metadata": {
      "needs_background": "light"
     },
     "output_type": "display_data"
    },
    {
     "name": "stdout",
     "output_type": "stream",
     "text": [
      "Number of forum posts with keyword 'easier': 6\n"
     ]
    },
    {
     "data": {
      "image/png": "[encoded data removed]",
      "text/plain": [
       "<Figure size 432x288 with 1 Axes>"
      ]
     },
     "metadata": {
      "needs_background": "light"
     },
     "output_type": "display_data"
    },
    {
     "name": "stdout",
     "output_type": "stream",
     "text": [
      "Number of forum posts with keyword 'engineer': 6\n"
     ]
    },
    {
     "data": {
      "image/png": "[encoded data removed]",
      "text/plain": [
       "<Figure size 432x288 with 1 Axes>"
      ]
     },
     "metadata": {
      "needs_background": "light"
     },
     "output_type": "display_data"
    },
    {
     "name": "stdout",
     "output_type": "stream",
     "text": [
      "Number of forum posts with keyword 'owner': 6\n"
     ]
    },
    {
     "data": {
      "image/png": "[encoded data removed]",
      "text/plain": [
       "<Figure size 432x288 with 1 Axes>"
      ]
     },
     "metadata": {
      "needs_background": "light"
     },
     "output_type": "display_data"
    }
   ],
   "source": [
    "colors = [\"#c7def4\", \"#b1de5f\"]\n",
    "sns.set_palette(colors)\n",
    "\n",
    "for word, score in top_words[0:10]:\n",
    "    plot_word(forum_data, word)"
   ]
  },
  {
   "cell_type": "code",
   "execution_count": 126,
   "id": "feaf6947",
   "metadata": {},
   "outputs": [
    {
     "name": "stdout",
     "output_type": "stream",
     "text": [
      "                                                 title              author  \\\n",
      "0    Proposal: Saints and Sinners - 🔥 DAO Proposals...               rg203   \n",
      "7    PROPOSAL: Chess. Crypto. Cultivation - 🔥 DAO P...  endgameassociation   \n",
      "10   Proposal: $ANIMAL Creator Token - 🔥 DAO Propos...             jdshutt   \n",
      "17   Atlantis World // Grant Proposal - 🔥 DAO Propo...              revrfg   \n",
      "25   LabelDAO Grant Application - 🔥 DAO Proposals -...     davidgreenstein   \n",
      "27   Giving Tree : a DAO for small, local random ac...      zuchinni_hands   \n",
      "28   Proposal: Minty, a DAO hub for collector DAOs ...          isaacpatka   \n",
      "29   DAO Proposal: RenaissanceDAO Grant Application...          TheAlexYao   \n",
      "58   DAO Proposal: Trust - A Graphic Novel that Tea...        AnneConnelly   \n",
      "89   DAO Proposal: Loft Radio 🎧 - 🔥 DAO Proposals -...             jzstern   \n",
      "108  DAO Proposal: MetaFactory 🤖 - 🔥 DAO Proposals ...         burningfiat   \n",
      "109  DAO Proposal: KIPA is an extension for minting...             007mike   \n",
      "125  DAO Proposal: The Dogs Molochs DAO Dashboard (...            awaygray   \n",
      "133  DAO Proposal: PCDC Auction House (Dapp for min...           bitsavage   \n",
      "\n",
      "                                           description  \\\n",
      "0     title: saints and sinners description: we are...   \n",
      "7     end game association x the cyber panther part...   \n",
      "10    $animal (https://info.uniswap.org/pair/0xc787...   \n",
      "17    hey everyone, we’re super excited to apply fo...   \n",
      "25    hey metacartel! i’m david and one of the foun...   \n",
      "27    name giving tree *ok, tbh i don’t have a name...   \n",
      "28    crowd fund, collect, and manage pools of asse...   \n",
      "29    hey everyone! i’m alex, one of the founders o...   \n",
      "58    metacartel ventures grant - trust graphic nov...   \n",
      "89    sup metacartel! a few months ago my friend mi...   \n",
      "108   https://metafactory.ai  metafactory is seekin...   \n",
      "109   i came to metacartel to meet people, work tog...   \n",
      "125   it’s an open-source forkable web3.0 dapp dash...   \n",
      "133   pcdc auction house is a web3.0 dapp that allo...   \n",
      "\n",
      "                                              comments Person Contact  \\\n",
      "0    [(<p>Super cool! kinda feels like Wargames, bu...            NaN   \n",
      "7    [(<p>Have you heard of Nifty Chess ? Might be ...            NaN   \n",
      "10   [(<p><strong>Update (5/4/2021)</strong></p>, '...            NaN   \n",
      "17   [(<p>Happy to share our progress since my last...            NaN   \n",
      "25                                                  []            NaN   \n",
      "27   [(<p>I should note that I’m new to the DAO spa...            NaN   \n",
      "28   [(<p>Some more relevant links:</p>, 'isaacpatk...            NaN   \n",
      "29                                                  []            NaN   \n",
      "58   [(<p>I am excited about this project,</p>, 'Du...            NaN   \n",
      "89   [(<p>Awesome project! Tons of cool stuff to co...            NaN   \n",
      "108  [(<p><img alt=\":rainbow:\" class=\"emoji\" src=\"h...            NaN   \n",
      "109  [(<p>We had a chat about just focusing on: Hel...            NaN   \n",
      "125  [(<p>Thanks for posting here Andy! Big fan of ...            NaN   \n",
      "133  [(<p>Hey, this is super cool… have you seen th...            NaN   \n",
      "\n",
      "    Description $ Amount        Date  was_funded  \\\n",
      "0           NaN      NaN  2021-11-12           0   \n",
      "7           NaN      NaN  2021-09-01           0   \n",
      "10          NaN      NaN  2021-04-03           0   \n",
      "17          NaN      NaN  2021-08-03           0   \n",
      "25          NaN      NaN  2021-07-13           0   \n",
      "27          NaN      NaN  2021-07-08           0   \n",
      "28          NaN      NaN  2021-06-18           0   \n",
      "29          NaN      NaN  2021-07-04           0   \n",
      "58          NaN      NaN  2020-07-24           0   \n",
      "89          NaN      NaN  2020-03-01           0   \n",
      "108         NaN      NaN  2020-02-21           0   \n",
      "109         NaN      NaN  2020-02-12           0   \n",
      "125         NaN      NaN  2019-10-22           0   \n",
      "133         NaN      NaN  2019-09-15           0   \n",
      "\n",
      "                                   Description_cleaned   art  \n",
      "0     title saints and sinners description we are a...  True  \n",
      "7     end game association x the cyber panther part...  True  \n",
      "10    animal httpsinfouniswaporgpair0xc787dad394ae5...  True  \n",
      "17    hey everyone we’re super excited to apply for...  True  \n",
      "25    hey metacartel i’m david and one of the found...  True  \n",
      "27    name giving tree ok tbh i don’t have a name y...  True  \n",
      "28    crowd fund collect and manage pools of assetb...  True  \n",
      "29    hey everyone i’m alex one of the founders of ...  True  \n",
      "58    metacartel ventures grant  trust graphic nove...  True  \n",
      "89    sup metacartel a few months ago my friend mic...  True  \n",
      "108   httpsmetafactoryai  metafactory is seeking to...  True  \n",
      "109   i came to metacartel to meet people work toge...  True  \n",
      "125   it’s an opensource forkable web30 dapp dashbo...  True  \n",
      "133   pcdc auction house is a web30 dapp that allow...  True  \n",
      "14\n"
     ]
    },
    {
     "data": {
      "text/plain": [
       "' httpsmetafactoryai  metafactory is seeking to finalize its grant of 6000 usd to help fund the initial development of the metafactory auction platform this grant was originally proposed and approved via soft consensus under metacartel’s cohort i wave iii as swagdao httpsmediumcommetacartelmetacartelcohort16336cdca05db all grant funding will be used to pay for platform development costs only and will be directly redistributed to the teams and developers who wrote the contracts  front end metafactory is a new type of physical goods auction platform with a focus on apparel empowering artists to expand their audience and reach through fashion we curate and manage our product marketplace cultivate community engagement and handle all product production  fulfillment on behalf of our design partners so they only need to focus on their art  the auction platform includes some exciting game mechanics and enables supporters to be directly rewarded through a pro rata refund  metafactory believes it can cultivate more successful brands through higherengaged communities able to directly participate in the brand’s success we are making a long term bet on the growth of virtual worlds we believe that ethereum nfts and the underlying economic foundation will enable success where previous attempts fell short second life etc the coinciding growth in vr will only further strengthen and support this growth by enabling new immersive experiences where users will desire to personalize their individual experience and appearance we are looking to validate the potential demand for custom limited run digiphysical apparel  long term we believe that the digital apparel brands will see significant growth and see physical apparel compliments as a great way to capture attention add value and attract new audiences the leader in digiphysical apparel and an incubation platform for new decentralized brand economies'"
      ]
     },
     "execution_count": 126,
     "metadata": {},
     "output_type": "execute_result"
    }
   ],
   "source": [
    "word = 'art'\n",
    "copy_forum_data = forum_data.copy()\n",
    "copy_forum_data[word] = copy_forum_data['Description_cleaned'].apply(lambda x: ' '+word+' ' in str(x))\n",
    "print(copy_forum_data[copy_forum_data[word] == 1])\n",
    "print(copy_forum_data[word].sum())\n",
    "copy_forum_data[copy_forum_data[word] == 1].iloc[10]['Description_cleaned']\n",
    "\n",
    "\n"
   ]
  },
  {
   "cell_type": "code",
   "execution_count": 118,
   "id": "0c1df5af",
   "metadata": {
    "scrolled": true
   },
   "outputs": [
    {
     "name": "stdout",
     "output_type": "stream",
     "text": [
      "Number of forum posts with keyword 'artists': 8\n"
     ]
    },
    {
     "data": {
      "image/png": "[encoded data removed]",
      "text/plain": [
       "<Figure size 432x288 with 1 Axes>"
      ]
     },
     "metadata": {
      "needs_background": "light"
     },
     "output_type": "display_data"
    }
   ],
   "source": [
    "plot_word(forum_data, 'artists')"
   ]
  },
  {
   "cell_type": "code",
   "execution_count": 81,
   "id": "3bb0edfa",
   "metadata": {},
   "outputs": [
    {
     "data": {
      "text/plain": [
       "151"
      ]
     },
     "execution_count": 81,
     "metadata": {},
     "output_type": "execute_result"
    }
   ],
   "source": [
    "len(forum_data)"
   ]
  },
  {
   "cell_type": "code",
   "execution_count": null,
   "id": "218df140",
   "metadata": {},
   "outputs": [],
   "source": []
  }
 ],
 "metadata": {
  "kernelspec": {
   "display_name": "Python [conda env:snowflakes]",
   "language": "python",
   "name": "conda-env-snowflakes-py"
  },
  "language_info": {
   "codemirror_mode": {
    "name": "ipython",
    "version": 3
   },
   "file_extension": ".py",
   "mimetype": "text/x-python",
   "name": "python",
   "nbconvert_exporter": "python",
   "pygments_lexer": "ipython3",
   "version": "3.8.12"
  }
 },
 "nbformat": 4,
 "nbformat_minor": 5
}
